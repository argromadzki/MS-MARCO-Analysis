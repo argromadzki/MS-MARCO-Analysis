{
 "cells": [
  {
   "cell_type": "code",
   "execution_count": 1,
   "metadata": {},
   "outputs": [],
   "source": [
    "import numpy as np\n",
    "import pandas as pd\n",
    "import os\n",
    "import seaborn as sns\n",
    "import matplotlib.pyplot as plt\n",
    "import scipy as sp\n",
    "from collections import Counter"
   ]
  },
  {
   "cell_type": "code",
   "execution_count": 2,
   "metadata": {},
   "outputs": [
    {
     "data": {
      "text/plain": [
       "'C:\\\\Users\\\\alxgr\\\\Documents\\\\UVA\\\\DSI\\\\Fall 2018\\\\SYS\\\\Final Project\\\\MS-MARCO-Analysis\\\\code'"
      ]
     },
     "execution_count": 2,
     "metadata": {},
     "output_type": "execute_result"
    }
   ],
   "source": [
    "os.getcwd()"
   ]
  },
  {
   "cell_type": "code",
   "execution_count": 3,
   "metadata": {},
   "outputs": [],
   "source": [
    "os.chdir('../../data')"
   ]
  },
  {
   "cell_type": "code",
   "execution_count": 4,
   "metadata": {},
   "outputs": [
    {
     "data": {
      "text/plain": [
       "'C:\\\\Users\\\\alxgr\\\\Documents\\\\UVA\\\\DSI\\\\Fall 2018\\\\SYS\\\\Final Project\\\\data'"
      ]
     },
     "execution_count": 4,
     "metadata": {},
     "output_type": "execute_result"
    }
   ],
   "source": [
    "os.getcwd()"
   ]
  },
  {
   "cell_type": "code",
   "execution_count": 5,
   "metadata": {},
   "outputs": [],
   "source": [
    "q_tr =pd.read_csv('train_query_corpus.csv')\n",
    "q_te = pd.read_csv('test_query_corpus.csv')"
   ]
  },
  {
   "cell_type": "code",
   "execution_count": 6,
   "metadata": {},
   "outputs": [
    {
     "data": {
      "text/html": [
       "<div>\n",
       "<style scoped>\n",
       "    .dataframe tbody tr th:only-of-type {\n",
       "        vertical-align: middle;\n",
       "    }\n",
       "\n",
       "    .dataframe tbody tr th {\n",
       "        vertical-align: top;\n",
       "    }\n",
       "\n",
       "    .dataframe thead th {\n",
       "        text-align: right;\n",
       "    }\n",
       "</style>\n",
       "<table border=\"1\" class=\"dataframe\">\n",
       "  <thead>\n",
       "    <tr style=\"text-align: right;\">\n",
       "      <th></th>\n",
       "      <th>Unnamed: 0</th>\n",
       "      <th>qid</th>\n",
       "      <th>text</th>\n",
       "      <th>tokens</th>\n",
       "      <th>newtext</th>\n",
       "    </tr>\n",
       "  </thead>\n",
       "  <tbody>\n",
       "    <tr>\n",
       "      <th>0</th>\n",
       "      <td>0</td>\n",
       "      <td>634306</td>\n",
       "      <td>what does chattel mean on credit history</td>\n",
       "      <td>['doe', 'chattel', 'mean', 'credit', 'histori']</td>\n",
       "      <td>doe chattel mean credit histori</td>\n",
       "    </tr>\n",
       "    <tr>\n",
       "      <th>1</th>\n",
       "      <td>1</td>\n",
       "      <td>920825</td>\n",
       "      <td>what was the great leap forward brainly</td>\n",
       "      <td>['wa', 'great', 'leap', 'forward', 'brainli']</td>\n",
       "      <td>wa great leap forward brainli</td>\n",
       "    </tr>\n",
       "    <tr>\n",
       "      <th>2</th>\n",
       "      <td>2</td>\n",
       "      <td>510633</td>\n",
       "      <td>tattoo fixers how much does it cost</td>\n",
       "      <td>['tattoo', 'fixer', 'much', 'doe', 'cost']</td>\n",
       "      <td>tattoo fixer much doe cost</td>\n",
       "    </tr>\n",
       "    <tr>\n",
       "      <th>3</th>\n",
       "      <td>3</td>\n",
       "      <td>737889</td>\n",
       "      <td>what is decentralization process.</td>\n",
       "      <td>['decentr', 'process']</td>\n",
       "      <td>decentr process</td>\n",
       "    </tr>\n",
       "    <tr>\n",
       "      <th>4</th>\n",
       "      <td>4</td>\n",
       "      <td>278900</td>\n",
       "      <td>how many cars enter the la jolla concours d' e...</td>\n",
       "      <td>['mani', 'car', 'enter', 'la', 'jolla', 'conco...</td>\n",
       "      <td>mani car enter la jolla concour eleg</td>\n",
       "    </tr>\n",
       "  </tbody>\n",
       "</table>\n",
       "</div>"
      ],
      "text/plain": [
       "   Unnamed: 0     qid                                               text  \\\n",
       "0           0  634306           what does chattel mean on credit history   \n",
       "1           1  920825            what was the great leap forward brainly   \n",
       "2           2  510633                tattoo fixers how much does it cost   \n",
       "3           3  737889                  what is decentralization process.   \n",
       "4           4  278900  how many cars enter the la jolla concours d' e...   \n",
       "\n",
       "                                              tokens  \\\n",
       "0    ['doe', 'chattel', 'mean', 'credit', 'histori']   \n",
       "1      ['wa', 'great', 'leap', 'forward', 'brainli']   \n",
       "2         ['tattoo', 'fixer', 'much', 'doe', 'cost']   \n",
       "3                             ['decentr', 'process']   \n",
       "4  ['mani', 'car', 'enter', 'la', 'jolla', 'conco...   \n",
       "\n",
       "                                newtext  \n",
       "0       doe chattel mean credit histori  \n",
       "1         wa great leap forward brainli  \n",
       "2            tattoo fixer much doe cost  \n",
       "3                       decentr process  \n",
       "4  mani car enter la jolla concour eleg  "
      ]
     },
     "execution_count": 6,
     "metadata": {},
     "output_type": "execute_result"
    }
   ],
   "source": [
    "q_tr.head()"
   ]
  },
  {
   "cell_type": "code",
   "execution_count": 7,
   "metadata": {},
   "outputs": [
    {
     "data": {
      "text/html": [
       "<div>\n",
       "<style scoped>\n",
       "    .dataframe tbody tr th:only-of-type {\n",
       "        vertical-align: middle;\n",
       "    }\n",
       "\n",
       "    .dataframe tbody tr th {\n",
       "        vertical-align: top;\n",
       "    }\n",
       "\n",
       "    .dataframe thead th {\n",
       "        text-align: right;\n",
       "    }\n",
       "</style>\n",
       "<table border=\"1\" class=\"dataframe\">\n",
       "  <thead>\n",
       "    <tr style=\"text-align: right;\">\n",
       "      <th></th>\n",
       "      <th>Unnamed: 0</th>\n",
       "      <th>qid</th>\n",
       "      <th>text</th>\n",
       "      <th>tokens</th>\n",
       "      <th>newtext</th>\n",
       "    </tr>\n",
       "  </thead>\n",
       "  <tbody>\n",
       "    <tr>\n",
       "      <th>0</th>\n",
       "      <td>0</td>\n",
       "      <td>1048579</td>\n",
       "      <td>what is pcnt</td>\n",
       "      <td>['pcnt']</td>\n",
       "      <td>pcnt</td>\n",
       "    </tr>\n",
       "    <tr>\n",
       "      <th>1</th>\n",
       "      <td>1</td>\n",
       "      <td>1048580</td>\n",
       "      <td>what is pcb waste</td>\n",
       "      <td>['pcb', 'wast']</td>\n",
       "      <td>pcb wast</td>\n",
       "    </tr>\n",
       "    <tr>\n",
       "      <th>2</th>\n",
       "      <td>2</td>\n",
       "      <td>1048581</td>\n",
       "      <td>what is pbis?</td>\n",
       "      <td>['pbi']</td>\n",
       "      <td>pbi</td>\n",
       "    </tr>\n",
       "    <tr>\n",
       "      <th>3</th>\n",
       "      <td>3</td>\n",
       "      <td>1048582</td>\n",
       "      <td>what is paysky</td>\n",
       "      <td>['payski']</td>\n",
       "      <td>payski</td>\n",
       "    </tr>\n",
       "    <tr>\n",
       "      <th>4</th>\n",
       "      <td>4</td>\n",
       "      <td>1048583</td>\n",
       "      <td>what is paydata</td>\n",
       "      <td>['paydata']</td>\n",
       "      <td>paydata</td>\n",
       "    </tr>\n",
       "  </tbody>\n",
       "</table>\n",
       "</div>"
      ],
      "text/plain": [
       "   Unnamed: 0      qid               text           tokens   newtext\n",
       "0           0  1048579       what is pcnt         ['pcnt']      pcnt\n",
       "1           1  1048580  what is pcb waste  ['pcb', 'wast']  pcb wast\n",
       "2           2  1048581      what is pbis?          ['pbi']       pbi\n",
       "3           3  1048582     what is paysky       ['payski']    payski\n",
       "4           4  1048583    what is paydata      ['paydata']   paydata"
      ]
     },
     "execution_count": 7,
     "metadata": {},
     "output_type": "execute_result"
    }
   ],
   "source": [
    "q_te.head()"
   ]
  },
  {
   "cell_type": "code",
   "execution_count": 8,
   "metadata": {},
   "outputs": [],
   "source": [
    "passages = pd.read_csv('all_passages_tokenized.csv')"
   ]
  },
  {
   "cell_type": "code",
   "execution_count": 9,
   "metadata": {},
   "outputs": [
    {
     "data": {
      "text/plain": [
       "0"
      ]
     },
     "execution_count": 9,
     "metadata": {},
     "output_type": "execute_result"
    }
   ],
   "source": [
    "sum(passages['newtext'] == None)\n"
   ]
  },
  {
   "cell_type": "code",
   "execution_count": 10,
   "metadata": {},
   "outputs": [
    {
     "data": {
      "text/html": [
       "<div>\n",
       "<style scoped>\n",
       "    .dataframe tbody tr th:only-of-type {\n",
       "        vertical-align: middle;\n",
       "    }\n",
       "\n",
       "    .dataframe tbody tr th {\n",
       "        vertical-align: top;\n",
       "    }\n",
       "\n",
       "    .dataframe thead th {\n",
       "        text-align: right;\n",
       "    }\n",
       "</style>\n",
       "<table border=\"1\" class=\"dataframe\">\n",
       "  <thead>\n",
       "    <tr style=\"text-align: right;\">\n",
       "      <th></th>\n",
       "      <th>Unnamed: 0</th>\n",
       "      <th>id</th>\n",
       "      <th>newtext</th>\n",
       "    </tr>\n",
       "  </thead>\n",
       "  <tbody>\n",
       "    <tr>\n",
       "      <th>0</th>\n",
       "      <td>0</td>\n",
       "      <td>1000001</td>\n",
       "      <td>capit capit bone capit bone capit bone capit b...</td>\n",
       "    </tr>\n",
       "    <tr>\n",
       "      <th>1</th>\n",
       "      <td>1</td>\n",
       "      <td>1000002</td>\n",
       "      <td>capit capit bone capit capit rate capit capit ...</td>\n",
       "    </tr>\n",
       "    <tr>\n",
       "      <th>2</th>\n",
       "      <td>2</td>\n",
       "      <td>1000003</td>\n",
       "      <td>recent studi lamiacea secretori structur corsi...</td>\n",
       "    </tr>\n",
       "    <tr>\n",
       "      <th>3</th>\n",
       "      <td>3</td>\n",
       "      <td>1000004</td>\n",
       "      <td>look onlin definit capit medic dictionari capi...</td>\n",
       "    </tr>\n",
       "    <tr>\n",
       "      <th>4</th>\n",
       "      <td>4</td>\n",
       "      <td>1000005</td>\n",
       "      <td>bone hand arm read bone hand arm use link thi ...</td>\n",
       "    </tr>\n",
       "  </tbody>\n",
       "</table>\n",
       "</div>"
      ],
      "text/plain": [
       "   Unnamed: 0       id                                            newtext\n",
       "0           0  1000001  capit capit bone capit bone capit bone capit b...\n",
       "1           1  1000002  capit capit bone capit capit rate capit capit ...\n",
       "2           2  1000003  recent studi lamiacea secretori structur corsi...\n",
       "3           3  1000004  look onlin definit capit medic dictionari capi...\n",
       "4           4  1000005  bone hand arm read bone hand arm use link thi ..."
      ]
     },
     "execution_count": 10,
     "metadata": {},
     "output_type": "execute_result"
    }
   ],
   "source": [
    "passages.head()"
   ]
  },
  {
   "cell_type": "code",
   "execution_count": 11,
   "metadata": {},
   "outputs": [
    {
     "data": {
      "image/png": "[encoded data removed]",
      "text/plain": [
       "<Figure size 576x576 with 1 Axes>"
      ]
     },
     "metadata": {},
     "output_type": "display_data"
    }
   ],
   "source": [
    "# https://stackoverflow.com/questions/35596128/how-to-generate-a-word-frequency-histogram-where-bars-are-ordered-according-to\n",
    "# here we have passages that are tokenized to the exact same strings\n",
    "# this will show us the common passages that occur most frequently similarity in terms of tokenized words \n",
    "# (before removing sparse words)\n",
    "\n",
    "word_list = passages.loc[:,'newtext']\n",
    "fig = plt.figure(figsize = (8,8))\n",
    "plt.title('Frequency of Duplicate Tokenized Passages')\n",
    "\n",
    "counts = dict(Counter(word_list).most_common(5))\n",
    "\n",
    "labels, values = zip(*counts.items())\n",
    "\n",
    "# sort your values in descending order\n",
    "indSort = np.argsort(values)[::-1]\n",
    "\n",
    "# rearrange your data\n",
    "labels = np.array(labels)[indSort]\n",
    "values = np.array(values)[indSort]\n",
    "\n",
    "indexes = np.arange(len(labels))+ 1\n",
    "\n",
    "bar_width = 0.35\n",
    "\n",
    "plt.bar(indexes, values)\n",
    "\n",
    "# add labels\n",
    "plt.xticks(indexes)\n",
    "plt.show()"
   ]
  },
  {
   "cell_type": "code",
   "execution_count": 12,
   "metadata": {},
   "outputs": [],
   "source": [
    "counts; # shows what each of the top 5 rankings correspond to"
   ]
  },
  {
   "cell_type": "code",
   "execution_count": 13,
   "metadata": {},
   "outputs": [
    {
     "name": "stdout",
     "output_type": "stream",
     "text": [
      "Frequency 1: retriev http\n",
      "\n",
      "Frequency 2: week week high highest sale price stock ha achiev dure regular trade hour dure recent week period week low lowest sale price stock ha fallen dure regular trade hour dure recent week period market cap measur estim valu common equiti secur compani equival\n",
      "\n",
      "Frequency 3: nan\n",
      "\n",
      "Frequency 4: exampl sentenc select automat variou onlin news sourc reflect current usag word view express exampl repres opinion editor send us feedback\n",
      "\n",
      "Frequency 5: exampl sentenc select automat variou onlin news sourc reflect current usag word view express exampl repres opinion editor\n",
      "\n"
     ]
    }
   ],
   "source": [
    "# cleanly display the above\n",
    "\n",
    "for one_label in range(len(labels)):\n",
    "    print ('Frequency' , str(one_label + 1) +':' , labels[one_label])\n",
    "    print()\n",
    "# labels[0]"
   ]
  },
  {
   "cell_type": "code",
   "execution_count": 14,
   "metadata": {},
   "outputs": [],
   "source": [
    "passage_words = passages.loc[:,'newtext'].str.cat(sep=' ').split()"
   ]
  },
  {
   "cell_type": "code",
   "execution_count": 15,
   "metadata": {},
   "outputs": [
    {
     "data": {
      "text/plain": [
       "'capit'"
      ]
     },
     "execution_count": 15,
     "metadata": {},
     "output_type": "execute_result"
    }
   ],
   "source": [
    "# passage_words[1]"
   ]
  },
  {
   "cell_type": "code",
   "execution_count": 16,
   "metadata": {},
   "outputs": [
    {
     "data": {
      "image/png": "[encoded data removed]",
      "text/plain": [
       "<Figure size 576x576 with 1 Axes>"
      ]
     },
     "metadata": {},
     "output_type": "display_data"
    }
   ],
   "source": [
    "word_list = passage_words\n",
    "fig = plt.figure(figsize = (8,8))\n",
    "ax = fig.add_subplot(111)\n",
    "counts = dict(Counter(word_list).most_common(100))\n",
    "ax.set_title('Tokenized Word Frequency in Passage Corpus', fontsize= 18)\n",
    "\n",
    "\n",
    "labels, values = zip(*counts.items())\n",
    "\n",
    "# sort your values in descending order\n",
    "indSort = np.argsort(values)[::-1]\n",
    "\n",
    "# rearrange your data\n",
    "labels = np.array(labels)[indSort]\n",
    "values = np.array(values)[indSort]\n",
    "\n",
    "indexes = np.arange(len(labels)) + 1\n",
    "\n",
    "ax.bar(indexes, values)\n",
    "\n",
    "# add labels\n",
    "\n",
    "ax.set_xlabel('Words (See Key)', fontsize=16)\n",
    "ax.set_ylabel('Frequency', fontsize=16)\n",
    "\n",
    "plt.show()"
   ]
  },
  {
   "cell_type": "code",
   "execution_count": 17,
   "metadata": {},
   "outputs": [
    {
     "data": {
      "text/plain": [
       "{'thi': 1387977,\n",
       " 'use': 1320867,\n",
       " 'wa': 962676,\n",
       " 'one': 833833,\n",
       " 'ha': 767275,\n",
       " 'also': 675808,\n",
       " 'year': 671007,\n",
       " 'may': 650830,\n",
       " 'time': 625355,\n",
       " 'state': 539035,\n",
       " 'name': 536574,\n",
       " 'make': 482543,\n",
       " 'day': 479840,\n",
       " 'includ': 477537,\n",
       " 'new': 463388,\n",
       " 'caus': 453134,\n",
       " 'first': 451851,\n",
       " 'get': 439436,\n",
       " 'like': 416225,\n",
       " 'two': 401369,\n",
       " 'need': 397029,\n",
       " 'number': 396401,\n",
       " 'mean': 387498,\n",
       " 'call': 383230,\n",
       " 'peopl': 380819,\n",
       " 'work': 374969,\n",
       " 'ani': 368017,\n",
       " 'type': 366474,\n",
       " 'onli': 363377,\n",
       " 'take': 360260,\n",
       " 'mani': 359851,\n",
       " 'cost': 356282,\n",
       " 'hi': 352810,\n",
       " 'water': 351229,\n",
       " 'averag': 344083,\n",
       " 'form': 340565,\n",
       " 'per': 340544,\n",
       " 'system': 339383,\n",
       " 'differ': 329368,\n",
       " 'unit': 322331,\n",
       " 'bodi': 306474,\n",
       " 'part': 306065,\n",
       " 'help': 304816,\n",
       " 'blood': 304758,\n",
       " 'provid': 299557,\n",
       " 'see': 295006,\n",
       " 'cell': 293894,\n",
       " 'servic': 293774,\n",
       " 'area': 284819,\n",
       " 'gener': 278217,\n",
       " 'inform': 273803,\n",
       " 'hour': 269970,\n",
       " 'food': 268690,\n",
       " 'person': 268216,\n",
       " 'way': 254593,\n",
       " 'rate': 249505,\n",
       " 'locat': 246614,\n",
       " 'find': 245526,\n",
       " 'chang': 244547,\n",
       " 'requir': 244056,\n",
       " 'product': 244048,\n",
       " 'would': 243260,\n",
       " 'doe': 242883,\n",
       " 'home': 242606,\n",
       " 'follow': 238214,\n",
       " 'place': 236585,\n",
       " 'becaus': 233426,\n",
       " 'citi': 233222,\n",
       " 'exampl': 232970,\n",
       " 'usual': 230238,\n",
       " 'start': 228880,\n",
       " 'veri': 228648,\n",
       " 'common': 228602,\n",
       " 'set': 226166,\n",
       " 'dure': 226121,\n",
       " 'high': 225506,\n",
       " 'well': 223352,\n",
       " 'test': 223017,\n",
       " 'found': 222911,\n",
       " 'best': 222870,\n",
       " 'list': 222553,\n",
       " 'known': 222306,\n",
       " 'befor': 222221,\n",
       " 'go': 222101,\n",
       " 'much': 221292,\n",
       " 'world': 219063,\n",
       " 'right': 217060,\n",
       " 'often': 216093,\n",
       " 'month': 213483,\n",
       " 'live': 213324,\n",
       " 'process': 213301,\n",
       " 'base': 211307,\n",
       " 'level': 209606,\n",
       " 'want': 209286,\n",
       " 'made': 207541,\n",
       " 'medic': 207487,\n",
       " 'diseas': 207138,\n",
       " 'age': 204685,\n",
       " 'good': 203609,\n",
       " 'look': 201808}"
      ]
     },
     "execution_count": 17,
     "metadata": {},
     "output_type": "execute_result"
    }
   ],
   "source": [
    "counts"
   ]
  },
  {
   "cell_type": "code",
   "execution_count": 18,
   "metadata": {},
   "outputs": [
    {
     "data": {
      "image/png": "[encoded data removed]",
      "text/plain": [
       "<Figure size 576x576 with 1 Axes>"
      ]
     },
     "metadata": {},
     "output_type": "display_data"
    }
   ],
   "source": [
    "word_list = q_tr.loc[:,'newtext']\n",
    "fig = plt.figure(figsize = (8,8))\n",
    "counts = dict(Counter(word_list).most_common(5))\n",
    "\n",
    "plt.title('Frequency of Duplicate Tokenized Training Queries')\n",
    "\n",
    "labels, values = zip(*counts.items())\n",
    "\n",
    "# sort your values in descending order\n",
    "indSort = np.argsort(values)[::-1]\n",
    "\n",
    "# rearrange your data\n",
    "labels = np.array(labels)[indSort]\n",
    "values = np.array(values)[indSort]\n",
    "\n",
    "indexes = np.arange(len(labels)) + 1\n",
    "\n",
    "bar_width = 0.35\n",
    "\n",
    "plt.bar(indexes, values)\n",
    "\n",
    "# add labels\n",
    "plt.xticks(indexes)\n",
    "plt.show()"
   ]
  },
  {
   "cell_type": "code",
   "execution_count": 19,
   "metadata": {},
   "outputs": [
    {
     "name": "stdout",
     "output_type": "stream",
     "text": [
      "Frequency 1: nan\n",
      "\n",
      "Frequency 2: definit\n",
      "\n",
      "Frequency 3: area code\n",
      "\n",
      "Frequency 4: defin\n",
      "\n",
      "Frequency 5: doe mean\n",
      "\n"
     ]
    }
   ],
   "source": [
    "# cleanly display the q_training frequency of entirely duplicate tokenized queries\n",
    "\n",
    "for one_label in range(len(labels)):\n",
    "    print ('Frequency' , str(one_label + 1) +':' , labels[one_label])\n",
    "    print()\n",
    "# labels[0]"
   ]
  },
  {
   "cell_type": "code",
   "execution_count": 20,
   "metadata": {},
   "outputs": [
    {
     "data": {
      "image/png": "[encoded data removed]",
      "text/plain": [
       "<Figure size 576x576 with 1 Axes>"
      ]
     },
     "metadata": {},
     "output_type": "display_data"
    }
   ],
   "source": [
    "word_list = q_tr.loc[:,'newtext'].str.cat(sep=' ').split()\n",
    "fig = plt.figure(figsize = (8,8))\n",
    "ax = fig.add_subplot(111)\n",
    "counts = dict(Counter(word_list).most_common(200))\n",
    "\n",
    "ax.set_title('Tokenized Word Frequency in Training Query Corpus', fontsize=18)\n",
    "\n",
    "labels, values = zip(*counts.items())\n",
    "\n",
    "# sort your values in descending order\n",
    "indSort = np.argsort(values)[::-1]\n",
    "\n",
    "# rearrange your data\n",
    "labels = np.array(labels)[indSort]\n",
    "values = np.array(values)[indSort]\n",
    "\n",
    "indexes = np.arange(len(labels)) + 1\n",
    "\n",
    "bar_width = 0.35\n",
    "\n",
    "ax.bar(indexes, values)\n",
    "\n",
    "# add labels\n",
    "\n",
    "ax.set_xlabel('Words (See Key))', fontsize= 16)\n",
    "ax.set_ylabel('Frequency', fontsize= 16)\n",
    "\n",
    "\n",
    "plt.show()"
   ]
  },
  {
   "cell_type": "code",
   "execution_count": 21,
   "metadata": {},
   "outputs": [
    {
     "data": {
      "text/plain": [
       "{'doe': 73821,\n",
       " 'definit': 30420,\n",
       " 'mean': 30001,\n",
       " 'long': 29051,\n",
       " 'cost': 27094,\n",
       " 'much': 24106,\n",
       " 'wa': 23131,\n",
       " 'mani': 22133,\n",
       " 'caus': 21586,\n",
       " 'averag': 18738,\n",
       " 'use': 18438,\n",
       " 'whi': 13995,\n",
       " 'name': 13949,\n",
       " 'number': 13607,\n",
       " 'counti': 12374,\n",
       " 'get': 12366,\n",
       " 'type': 12158,\n",
       " 'make': 11936,\n",
       " 'take': 11605,\n",
       " 'defin': 9411,\n",
       " 'differ': 9271,\n",
       " 'time': 8292,\n",
       " 'salari': 7191,\n",
       " 'need': 7145,\n",
       " 'day': 7031,\n",
       " 'food': 7029,\n",
       " 'temperatur': 6803,\n",
       " 'price': 6796,\n",
       " 'work': 6590,\n",
       " 'call': 6548,\n",
       " 'year': 6544,\n",
       " 'weather': 6433,\n",
       " 'state': 6417,\n",
       " 'age': 6273,\n",
       " 'blood': 6190,\n",
       " 'per': 6149,\n",
       " 'symptom': 6137,\n",
       " 'locat': 6072,\n",
       " 'good': 5871,\n",
       " 'water': 5626,\n",
       " 'system': 5604,\n",
       " 'first': 5595,\n",
       " 'tax': 5565,\n",
       " 'test': 5539,\n",
       " 'medic': 5267,\n",
       " 'start': 5190,\n",
       " 'cell': 5006,\n",
       " 'kind': 4948,\n",
       " 'play': 4937,\n",
       " 'phone': 4836,\n",
       " 'effect': 4716,\n",
       " 'new': 4699,\n",
       " 'eat': 4632,\n",
       " 'old': 4550,\n",
       " 'calori': 4529,\n",
       " 'come': 4496,\n",
       " 'cook': 4492,\n",
       " 'us': 4484,\n",
       " 'made': 4412,\n",
       " 'diseas': 4375,\n",
       " 'pay': 4355,\n",
       " 'bodi': 4333,\n",
       " 'last': 4297,\n",
       " 'chang': 4175,\n",
       " 'live': 4061,\n",
       " 'ha': 4035,\n",
       " 'rate': 3955,\n",
       " 'word': 3937,\n",
       " 'car': 3886,\n",
       " 'home': 3790,\n",
       " 'color': 3774,\n",
       " 'term': 3731,\n",
       " 'dog': 3726,\n",
       " 'one': 3685,\n",
       " 'go': 3679,\n",
       " 'world': 3678,\n",
       " 'code': 3603,\n",
       " 'function': 3571,\n",
       " 'happen': 3533,\n",
       " 'benefit': 3459,\n",
       " 'citi': 3452,\n",
       " 'credit': 3399,\n",
       " 'best': 3393,\n",
       " 'pain': 3388,\n",
       " 'hour': 3366,\n",
       " 'servic': 3344,\n",
       " 'popul': 3323,\n",
       " 'muscl': 3286,\n",
       " 'person': 3282,\n",
       " 'affect': 3259,\n",
       " 'requir': 3207,\n",
       " 'die': 3197,\n",
       " 'help': 3196,\n",
       " 'peopl': 3128,\n",
       " 'form': 3127,\n",
       " 'hous': 3104,\n",
       " 'ga': 3097,\n",
       " 'befor': 3097,\n",
       " 'babi': 3058,\n",
       " 'level': 3052,\n",
       " 'file': 3048,\n",
       " 'becom': 3043,\n",
       " 'like': 3036,\n",
       " 'found': 2998,\n",
       " 'size': 2986,\n",
       " 'process': 2951,\n",
       " 'organ': 2947,\n",
       " 'part': 2942,\n",
       " 'insur': 2927,\n",
       " 'account': 2913,\n",
       " 'plant': 2908,\n",
       " 'human': 2897,\n",
       " 'weight': 2895,\n",
       " 'oil': 2857,\n",
       " 'unit': 2846,\n",
       " 'find': 2832,\n",
       " 'normal': 2808,\n",
       " 'school': 2788,\n",
       " 'period': 2782,\n",
       " 'far': 2778,\n",
       " 'american': 2752,\n",
       " 'origin': 2734,\n",
       " 'open': 2695,\n",
       " 'instal': 2684,\n",
       " 'card': 2666,\n",
       " 'consid': 2660,\n",
       " 'eye': 2553,\n",
       " 'stand': 2537,\n",
       " 'side': 2520,\n",
       " 'dure': 2503,\n",
       " 'health': 2501,\n",
       " 'window': 2484,\n",
       " 'import': 2482,\n",
       " 'presid': 2467,\n",
       " 'compani': 2460,\n",
       " 'date': 2413,\n",
       " 'movi': 2394,\n",
       " 'back': 2390,\n",
       " 'largest': 2370,\n",
       " 'money': 2370,\n",
       " 'would': 2353,\n",
       " 'check': 2345,\n",
       " 'creat': 2344,\n",
       " 'manag': 2343,\n",
       " 'chicken': 2337,\n",
       " 'common': 2335,\n",
       " 'univers': 2333,\n",
       " 'egg': 2332,\n",
       " 'remov': 2328,\n",
       " 'ca': 2326,\n",
       " 'heart': 2302,\n",
       " 'right': 2301,\n",
       " 'law': 2286,\n",
       " 'show': 2278,\n",
       " 'life': 2274,\n",
       " 'texa': 2238,\n",
       " 'build': 2223,\n",
       " 'grow': 2222,\n",
       " 'limit': 2204,\n",
       " 'child': 2195,\n",
       " 'comput': 2184,\n",
       " 'engin': 2183,\n",
       " 'keep': 2181,\n",
       " 'set': 2180,\n",
       " 'skin': 2175,\n",
       " 'vitamin': 2166,\n",
       " 'worth': 2150,\n",
       " 'protein': 2141,\n",
       " 'two': 2140,\n",
       " 'gener': 2121,\n",
       " 'degre': 2109,\n",
       " 'care': 2107,\n",
       " 'fee': 2102,\n",
       " 'florida': 2092,\n",
       " 'war': 2081,\n",
       " 'run': 2079,\n",
       " 'month': 2079,\n",
       " 'energi': 2064,\n",
       " 'control': 2058,\n",
       " 'nurs': 2039,\n",
       " 'earth': 2033,\n",
       " 'game': 2027,\n",
       " 'drive': 2025,\n",
       " 'produc': 1999,\n",
       " 'busi': 1994,\n",
       " 'born': 1994,\n",
       " 'air': 1984,\n",
       " 'rang': 1980,\n",
       " 'measur': 1966,\n",
       " 'stay': 1965,\n",
       " 'california': 1960,\n",
       " 'social': 1960,\n",
       " 'exampl': 1958,\n",
       " 'incom': 1956,\n",
       " 'charg': 1951,\n",
       " 'languag': 1951,\n",
       " 'light': 1945,\n",
       " 'power': 1936,\n",
       " 'fast': 1921,\n",
       " 'dna': 1920}"
      ]
     },
     "execution_count": 21,
     "metadata": {},
     "output_type": "execute_result"
    }
   ],
   "source": [
    "# words within training queries\n",
    "counts"
   ]
  },
  {
   "cell_type": "code",
   "execution_count": 22,
   "metadata": {},
   "outputs": [
    {
     "data": {
      "image/png": "[encoded data removed]",
      "text/plain": [
       "<Figure size 576x576 with 1 Axes>"
      ]
     },
     "metadata": {},
     "output_type": "display_data"
    }
   ],
   "source": [
    "word_list = q_te.loc[:,'newtext']\n",
    "fig = plt.figure(figsize = (8,8))\n",
    "counts = dict(Counter(word_list).most_common(5))\n",
    "\n",
    "plt.title('Frequency of Duplicate Tokenized Testing Queries')\n",
    "\n",
    "labels, values = zip(*counts.items())\n",
    "\n",
    "# sort your values in descending order\n",
    "indSort = np.argsort(values)[::-1]\n",
    "\n",
    "# rearrange your data\n",
    "labels = np.array(labels)[indSort]\n",
    "values = np.array(values)[indSort]\n",
    "\n",
    "indexes = np.arange(len(labels)) + 1\n",
    "\n",
    "bar_width = 0.35\n",
    "\n",
    "plt.bar(indexes, values)\n",
    "\n",
    "# add labels\n",
    "plt.xticks(indexes)\n",
    "plt.show()"
   ]
  },
  {
   "cell_type": "code",
   "execution_count": 23,
   "metadata": {},
   "outputs": [
    {
     "name": "stdout",
     "output_type": "stream",
     "text": [
      "Frequency 1: nan\n",
      "\n",
      "Frequency 2: definit\n",
      "\n",
      "Frequency 3: doe mean\n",
      "\n",
      "Frequency 4: mean\n",
      "\n",
      "Frequency 5: use\n",
      "\n"
     ]
    }
   ],
   "source": [
    "# cleanly display the above\n",
    "\n",
    "for one_label in range(len(labels)):\n",
    "    print ('Frequency' , str(one_label + 1) +':' , labels[one_label])\n",
    "    print()\n",
    "# labels[0]"
   ]
  },
  {
   "cell_type": "code",
   "execution_count": 24,
   "metadata": {},
   "outputs": [
    {
     "data": {
      "image/png": "[encoded data removed]",
      "text/plain": [
       "<Figure size 576x576 with 1 Axes>"
      ]
     },
     "metadata": {},
     "output_type": "display_data"
    }
   ],
   "source": [
    "word_list = q_te.loc[:,'newtext'].str.cat(sep=' ').split()\n",
    "fig = plt.figure(figsize = (8,8))\n",
    "ax = fig.add_subplot(111)\n",
    "counts = dict(Counter(word_list).most_common(200))\n",
    "\n",
    "ax.set_title('Tokenized Word Frequency in Testing Query Corpus', fontsize=18)\n",
    "\n",
    "labels, values = zip(*counts.items())\n",
    "\n",
    "# sort your values in descending order\n",
    "indSort = np.argsort(values)[::-1]\n",
    "\n",
    "# rearrange your data\n",
    "labels = np.array(labels)[indSort]\n",
    "values = np.array(values)[indSort]\n",
    "\n",
    "indexes = np.arange(len(labels)) + 1\n",
    "\n",
    "bar_width = 0.35\n",
    "\n",
    "ax.bar(indexes, values)\n",
    "\n",
    "# add labels\n",
    "\n",
    "ax.set_xlabel('Words (See Key)', fontsize= 16)\n",
    "ax.set_ylabel('Frequency', fontsize= 16)\n",
    "\n",
    "\n",
    "plt.show()"
   ]
  },
  {
   "cell_type": "code",
   "execution_count": 25,
   "metadata": {},
   "outputs": [
    {
     "data": {
      "text/plain": [
       "{'doe': 9276,\n",
       " 'mean': 4429,\n",
       " 'definit': 3791,\n",
       " 'long': 3089,\n",
       " 'wa': 2932,\n",
       " 'mani': 2887,\n",
       " 'much': 2812,\n",
       " 'caus': 2667,\n",
       " 'cost': 2580,\n",
       " 'use': 2386,\n",
       " 'number': 2153,\n",
       " 'whi': 1898,\n",
       " 'averag': 1873,\n",
       " 'get': 1529,\n",
       " 'type': 1528,\n",
       " 'name': 1421,\n",
       " 'counti': 1410,\n",
       " 'make': 1387,\n",
       " 'take': 1326,\n",
       " 'defin': 1324,\n",
       " 'differ': 1236,\n",
       " 'weather': 1194,\n",
       " 'time': 1150,\n",
       " 'price': 980,\n",
       " 'state': 909,\n",
       " 'need': 866,\n",
       " 'food': 828,\n",
       " 'work': 827,\n",
       " 'day': 819,\n",
       " 'phone': 818,\n",
       " 'symptom': 813,\n",
       " 'year': 800,\n",
       " 'tax': 780,\n",
       " 'temperatur': 778,\n",
       " 'water': 759,\n",
       " 'effect': 758,\n",
       " 'call': 738,\n",
       " 'age': 726,\n",
       " 'test': 693,\n",
       " 'blood': 665,\n",
       " 'medic': 662,\n",
       " 'salari': 655,\n",
       " 'system': 648,\n",
       " 'per': 645,\n",
       " 'good': 642,\n",
       " 'first': 636,\n",
       " 'locat': 608,\n",
       " 'benefit': 604,\n",
       " 'kind': 604,\n",
       " 'old': 597,\n",
       " 'play': 586,\n",
       " 'us': 585,\n",
       " 'start': 583,\n",
       " 'ha': 566,\n",
       " 'new': 557,\n",
       " 'cell': 554,\n",
       " 'calori': 553,\n",
       " 'car': 537,\n",
       " 'eat': 536,\n",
       " 'word': 526,\n",
       " 'one': 514,\n",
       " 'chang': 509,\n",
       " 'bodi': 509,\n",
       " 'come': 504,\n",
       " 'made': 502,\n",
       " 'popul': 491,\n",
       " 'peopl': 490,\n",
       " 'go': 486,\n",
       " 'last': 477,\n",
       " 'function': 476,\n",
       " 'pay': 474,\n",
       " 'servic': 471,\n",
       " 'live': 471,\n",
       " 'term': 463,\n",
       " 'world': 463,\n",
       " 'dog': 462,\n",
       " 'rate': 462,\n",
       " 'code': 462,\n",
       " 'color': 461,\n",
       " 'home': 458,\n",
       " 'citi': 458,\n",
       " 'file': 437,\n",
       " 'diseas': 432,\n",
       " 'requir': 432,\n",
       " 'form': 425,\n",
       " 'pain': 421,\n",
       " 'credit': 420,\n",
       " 'stand': 409,\n",
       " 'oil': 408,\n",
       " 'ga': 408,\n",
       " 'affect': 407,\n",
       " 'best': 406,\n",
       " 'cook': 406,\n",
       " 'die': 403,\n",
       " 'happen': 402,\n",
       " 'help': 402,\n",
       " 'hour': 400,\n",
       " 'unit': 393,\n",
       " 'weight': 392,\n",
       " 'process': 390,\n",
       " 'health': 381,\n",
       " 'hous': 376,\n",
       " 'import': 372,\n",
       " 'school': 369,\n",
       " 'person': 366,\n",
       " 'american': 363,\n",
       " 'open': 361,\n",
       " 'side': 361,\n",
       " 'plant': 359,\n",
       " 'account': 357,\n",
       " 'insur': 356,\n",
       " 'befor': 355,\n",
       " 'find': 355,\n",
       " 'babi': 353,\n",
       " 'size': 352,\n",
       " 'organ': 349,\n",
       " 'human': 348,\n",
       " 'like': 346,\n",
       " 'level': 345,\n",
       " 'card': 344,\n",
       " 'part': 344,\n",
       " 'law': 343,\n",
       " 'compani': 343,\n",
       " 'becom': 332,\n",
       " 'muscl': 329,\n",
       " 'found': 329,\n",
       " 'consid': 329,\n",
       " 'date': 328,\n",
       " 'dure': 326,\n",
       " 'presid': 325,\n",
       " 'far': 324,\n",
       " 'ca': 323,\n",
       " 'movi': 314,\n",
       " 'show': 314,\n",
       " 'back': 314,\n",
       " 'worth': 311,\n",
       " 'manag': 309,\n",
       " 'money': 308,\n",
       " 'check': 307,\n",
       " 'window': 307,\n",
       " 'eye': 302,\n",
       " 'care': 296,\n",
       " 'would': 294,\n",
       " 'two': 294,\n",
       " 'period': 293,\n",
       " 'war': 293,\n",
       " 'engin': 292,\n",
       " 'cast': 291,\n",
       " 'purpos': 291,\n",
       " 'right': 291,\n",
       " 'energi': 290,\n",
       " 'univers': 288,\n",
       " 'texa': 288,\n",
       " 'creat': 287,\n",
       " 'offic': 283,\n",
       " 'largest': 283,\n",
       " 'heart': 279,\n",
       " 'florida': 278,\n",
       " 'origin': 278,\n",
       " 'social': 278,\n",
       " 'set': 278,\n",
       " 'gener': 276,\n",
       " 'limit': 275,\n",
       " 'comput': 273,\n",
       " 'incom': 272,\n",
       " 'bank': 272,\n",
       " 'build': 270,\n",
       " 'way': 269,\n",
       " 'air': 267,\n",
       " 'remov': 267,\n",
       " 'protein': 266,\n",
       " 'common': 266,\n",
       " 'instal': 263,\n",
       " 'secur': 263,\n",
       " 'govern': 261,\n",
       " 'black': 260,\n",
       " 'life': 259,\n",
       " 'current': 259,\n",
       " 'control': 258,\n",
       " 'game': 257,\n",
       " 'child': 257,\n",
       " 'product': 254,\n",
       " 'light': 252,\n",
       " 'california': 252,\n",
       " 'grow': 252,\n",
       " 'busi': 252,\n",
       " 'power': 252,\n",
       " 'record': 250,\n",
       " 'exampl': 249,\n",
       " 'point': 248,\n",
       " 'colleg': 246,\n",
       " 'vitamin': 246,\n",
       " 'skin': 243,\n",
       " 'song': 242,\n",
       " 'produc': 241,\n",
       " 'earth': 241,\n",
       " 'charg': 241,\n",
       " 'egg': 240,\n",
       " 'normal': 239,\n",
       " 'program': 238}"
      ]
     },
     "execution_count": 25,
     "metadata": {},
     "output_type": "execute_result"
    }
   ],
   "source": [
    "counts"
   ]
  },
  {
   "cell_type": "code",
   "execution_count": 26,
   "metadata": {},
   "outputs": [
    {
     "data": {
      "image/png": "[encoded data removed]",
      "text/plain": [
       "<Figure size 576x576 with 1 Axes>"
      ]
     },
     "metadata": {},
     "output_type": "display_data"
    }
   ],
   "source": [
    "entry_list = passages.loc[:,'newtext']\n",
    "entry_lengths = []\n",
    "for entry in entry_list:\n",
    "    if type(entry) == float:\n",
    "        entry_lengths.append(0)\n",
    "    else:\n",
    "        entry_lengths.append(len(entry.split()))\n",
    "\n",
    "\n",
    "fig = plt.figure(figsize = (8,8))\n",
    "ax = fig.add_subplot(111)\n",
    "\n",
    "counts = dict(Counter(entry_lengths).most_common(20))\n",
    "\n",
    "ax.set_title('Passage Length Frequency',fontsize=18)\n",
    "\n",
    "\n",
    "\n",
    "labels, values = zip(*counts.items())\n",
    "\n",
    "# sort your values in descending order\n",
    "indSort = np.argsort(values)[::-1]\n",
    "\n",
    "# rearrange your data\n",
    "labels = np.array(labels)[indSort]\n",
    "values = np.array(values)[indSort]\n",
    "\n",
    "indexes = np.arange(len(labels))\n",
    "\n",
    "bar_width = 0.35\n",
    "\n",
    "ax.bar(indexes, values, tick_label= labels)\n",
    "\n",
    "ax.set_xlabel('Number of Terms in a Passage', fontsize= 16)\n",
    "ax.set_ylabel('Group Frequency', fontsize= 16)\n",
    "\n",
    "plt.show()"
   ]
  },
  {
   "cell_type": "code",
   "execution_count": 27,
   "metadata": {},
   "outputs": [
    {
     "data": {
      "text/plain": [
       "array([26, 27, 25, 28, 24, 29, 23, 30, 22, 31, 21, 32, 20, 33, 19, 34, 18,\n",
       "       35, 17, 36])"
      ]
     },
     "execution_count": 27,
     "metadata": {},
     "output_type": "execute_result"
    }
   ],
   "source": [
    "labels"
   ]
  },
  {
   "cell_type": "code",
   "execution_count": 28,
   "metadata": {},
   "outputs": [
    {
     "data": {
      "image/png": "[encoded data removed]",
      "text/plain": [
       "<Figure size 576x576 with 1 Axes>"
      ]
     },
     "metadata": {},
     "output_type": "display_data"
    }
   ],
   "source": [
    "entry_list = q_tr.loc[:,'newtext']\n",
    "entry_lengths = []\n",
    "for entry in entry_list:\n",
    "    if type(entry) == float:\n",
    "        entry_lengths.append(0)\n",
    "    else:\n",
    "        entry_lengths.append(len(entry.split()))\n",
    "\n",
    "fig = plt.figure(figsize = (8,8))\n",
    "ax = fig.add_subplot(111)\n",
    "\n",
    "counts = dict(Counter(entry_lengths).most_common(20))\n",
    "        \n",
    "ax.set_title('Training Query Length Frequency', fontsize=18)\n",
    "\n",
    "labels, values = zip(*counts.items())\n",
    "\n",
    "# sort your values in descending order\n",
    "indSort = np.argsort(values)[::-1]\n",
    "\n",
    "# rearrange your data\n",
    "labels = np.array(labels)[indSort]\n",
    "values = np.array(values)[indSort]\n",
    "\n",
    "indexes = np.arange(len(labels))\n",
    "\n",
    "bar_width = 0.35\n",
    "\n",
    "ax.bar(indexes, values, tick_label= labels)\n",
    "\n",
    "ax.set_xlabel('Number of Terms in a Query', fontsize= 16)\n",
    "ax.set_ylabel('Group Frequency', fontsize= 16)\n",
    "\n",
    "# add labels\n",
    "plt.show()"
   ]
  },
  {
   "cell_type": "code",
   "execution_count": 29,
   "metadata": {},
   "outputs": [
    {
     "data": {
      "image/png": "[encoded data removed]",
      "text/plain": [
       "<Figure size 576x576 with 1 Axes>"
      ]
     },
     "metadata": {},
     "output_type": "display_data"
    }
   ],
   "source": [
    "entry_list = q_te.loc[:,'newtext']\n",
    "entry_lengths = []\n",
    "for entry in entry_list:\n",
    "    if type(entry) == float:\n",
    "        entry_lengths.append(0)\n",
    "    else:\n",
    "        entry_lengths.append(len(entry.split()))\n",
    "\n",
    "fig = plt.figure(figsize = (8,8))\n",
    "ax = fig.add_subplot(111)\n",
    "counts = dict(Counter(entry_lengths).most_common(20))\n",
    "\n",
    "ax.set_title('Testing Query Length Frequency', fontsize=18)\n",
    "\n",
    "labels, values = zip(*counts.items())\n",
    "\n",
    "# sort your values in descending order\n",
    "indSort = np.argsort(values)[::-1]\n",
    "\n",
    "# rearrange your data\n",
    "labels = np.array(labels)[indSort]\n",
    "values = np.array(values)[indSort]\n",
    "\n",
    "indexes = np.arange(len(labels))\n",
    "\n",
    "bar_width = 0.35\n",
    "\n",
    "ax.bar(indexes, values, tick_label= labels)\n",
    "                    \n",
    "ax.set_xlabel('Number of Terms in a Query', fontsize= 16)\n",
    "ax.set_ylabel('Group Frequency', fontsize= 16)\n",
    "\n",
    "plt.show()"
   ]
  },
  {
   "cell_type": "code",
   "execution_count": null,
   "metadata": {},
   "outputs": [],
   "source": []
  },
  {
   "cell_type": "raw",
   "metadata": {},
   "source": [
    "pass1 = sp.sparse.load_npz('Passages_TF_IDF.npz')"
   ]
  },
  {
   "cell_type": "raw",
   "metadata": {},
   "source": [
    "pass1"
   ]
  },
  {
   "cell_type": "raw",
   "metadata": {},
   "source": [
    "pass2 = np.load('Passages_TF_IDF.npz')\n",
    "pass2.files"
   ]
  },
  {
   "cell_type": "raw",
   "metadata": {},
   "source": [
    "pass2['data']"
   ]
  }
 ],
 "metadata": {
  "kernelspec": {
   "display_name": "Python 3",
   "language": "python",
   "name": "python3"
  },
  "language_info": {
   "codemirror_mode": {
    "name": "ipython",
    "version": 3
   },
   "file_extension": ".py",
   "mimetype": "text/x-python",
   "name": "python",
   "nbconvert_exporter": "python",
   "pygments_lexer": "ipython3",
   "version": "3.6.5"
  }
 },
 "nbformat": 4,
 "nbformat_minor": 2
}
